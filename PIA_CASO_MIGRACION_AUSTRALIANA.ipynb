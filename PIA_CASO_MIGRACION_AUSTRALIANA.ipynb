{
  "nbformat": 4,
  "nbformat_minor": 0,
  "metadata": {
    "colab": {
      "provenance": [],
      "include_colab_link": true
    },
    "kernelspec": {
      "name": "python3",
      "display_name": "Python 3"
    },
    "language_info": {
      "name": "python"
    }
  },
  "cells": [
    {
      "cell_type": "markdown",
      "metadata": {
        "id": "view-in-github",
        "colab_type": "text"
      },
      "source": [
        "<a href=\"https://colab.research.google.com/github/roxandior/PIA---Introducci-n-a-la-programaci-n/blob/main/PIA_CASO_MIGRACION_AUSTRALIANA.ipynb\" target=\"_parent\"><img src=\"https://colab.research.google.com/assets/colab-badge.svg\" alt=\"Open In Colab\"/></a>"
      ]
    },
    {
      "cell_type": "code",
      "execution_count": null,
      "metadata": {
        "colab": {
          "base_uri": "https://localhost:8080/"
        },
        "id": "z3XFYcjHTg-g",
        "outputId": "a362a673-391f-4349-8b82-8cf588224c5d"
      },
      "outputs": [
        {
          "metadata": {
            "tags": null
          },
          "name": "stdout",
          "output_type": "stream",
          "text": [
            "El puntaje total de la familia es: 32\n"
          ]
        }
      ],
      "source": [
        "from datetime import datetime\n",
        "\n",
        "oficios_requeridos = ['Ingenieria', 'Desarrollo de software', 'Enfermeria', 'Docencia', 'Medicina', 'Chef', 'Encargado', 'Gerente', 'Auditor', 'Repartidor']\n",
        "\n",
        "def calcular_puntos_edad_fertil(fecha_nacimiento):\n",
        "    fecha_actual = datetime.now()\n",
        "    edad = fecha_actual.year - fecha_nacimiento.year - ((fecha_actual.month, fecha_actual.day) < (fecha_nacimiento.month, fecha_nacimiento.day))\n",
        "\n",
        "    if 20 <= edad <= 35:\n",
        "        return 15 - (edad - 20)\n",
        "    else:\n",
        "        return 0\n",
        "\n",
        "def obtener_datos_progenitor():\n",
        "    while True:\n",
        "        sexo = input(\"Ingrese el sexo (M/F/N): \")\n",
        "        if sexo not in ['M', 'F', 'N']:\n",
        "            print(\"Error en dato, ingrese caracteres válidos (M/F/N), intente de nuevo\")\n",
        "            continue\n",
        "        fecha_nacimiento = datetime.strptime(input(\"Ingrese la fecha de nacimiento (YYYY-MM-DD): \"), \"%Y-%m-%d\")\n",
        "        grado_academico = input(\"Ingrese el grado académico (P/U/T/N): \")\n",
        "\n",
        "        if grado_academico not in ['P', 'U', 'T', 'N']:\n",
        "            print(\"Error en dato, ingrese caracteres válidos (P/U/T/N), intente de nuevo\")\n",
        "            continue\n",
        "\n",
        "        tiene_oficio = input(f'¿Tiene alguno de los 10 oficios requeridos? (S/N) ({\",\".join(oficios_requeridos)}): ')\n",
        "\n",
        "        if tiene_oficio not in ['S', 'N']:\n",
        "            print(\"Error en captura de datos, ingrese un caracter válido (S/N). Intente de nuevo\")\n",
        "            continue\n",
        "        break\n",
        "\n",
        "        puntos = calcular_puntos_edad_fertil(fecha_nacimiento)\n",
        "\n",
        "        if sexo == 'F':\n",
        "            puntos += 35\n",
        "\n",
        "        if tiene_oficio == 'S':\n",
        "            oficio = input(\"Ingrese el oficio: \")\n",
        "            if oficio in oficios_requeridos:\n",
        "                puntos += 8\n",
        "\n",
        "        if grado_academico == 'P':\n",
        "            puntos += 5\n",
        "        elif grado_academico == 'U':\n",
        "            puntos += 3\n",
        "\n",
        "        return puntos\n",
        "\n",
        "def main():\n",
        "    tipo_familia = input(\"¿La familia es monoparental (M) o biparental (B)? \")\n",
        "    while True:\n",
        "        if tipo_familia != 'M' and tipo_familia != 'B':\n",
        "            print(\"Error en captura de dato, ingrese un caracter válido (M/B). Intente de nuevo.\")\n",
        "            continue\n",
        "        break\n",
        "\n",
        "    if tipo_familia == 'M':\n",
        "        puntos_totales = obtener_datos_progenitor()\n",
        "        print(f\"El puntaje total de la familia es: {puntos_totales}\")\n",
        "\n",
        "    elif tipo_familia == 'B':\n",
        "        puntos_totales = 0\n",
        "        puntos_totales = obtener_datos_progenitor()\n",
        "\n",
        "        num_hijos = int(input(\"¿Cuántos hijos tiene la familia? \"))\n",
        "\n",
        "        for puntos_totales in range(num_hijos):\n",
        "          puntos_totales += 8\n",
        "          sexo_hijo = input(\"Ingrese el sexo del hijo (M/F/N): \")\n",
        "          if sexo_hijo not in ['M', 'F', 'N']:\n",
        "            print(\"Error en dato, ingrese caracteres válidos (M/F/N), intente de nuevo\")\n",
        "            continue\n",
        "          fecha_nacimiento_hijo = datetime.strptime(input(\"Ingrese la fecha de nacimiento del hijo (YYYY-MM-DD): \"), \"%Y-%m-%d\")\n",
        "          puntos_totales += calcular_puntos_edad_fertil(fecha_nacimiento_hijo)\n",
        "          puntos_totales += 6 if tipo_familia == 'M' else 12\n",
        "          print(f\"El puntaje total de la familia es: {puntos_totales}\")\n",
        "\n",
        "if __name__ == \"__main__\":\n",
        "  main()\n",
        "\n",
        "\n"
      ]
    }
  ]
}